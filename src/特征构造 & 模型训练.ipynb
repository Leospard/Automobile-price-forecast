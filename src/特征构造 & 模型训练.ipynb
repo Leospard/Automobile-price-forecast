{
 "cells": [
  {
   "cell_type": "code",
   "execution_count": 1,
   "id": "3017f7f1",
   "metadata": {},
   "outputs": [],
   "source": [
    "## 基础工具\n",
    "import numpy as np\n",
    "import pandas as pd\n",
    "import warnings\n",
    "import matplotlib\n",
    "import matplotlib.pyplot as plt\n",
    "import seaborn as sns\n",
    "from scipy.special import jn\n",
    "from IPython.display import display, clear_output\n",
    "import time\n",
    "\n",
    "warnings.filterwarnings('ignore')\n",
    "%matplotlib inline\n",
    "\n",
    "## 模型预测的\n",
    "from sklearn import linear_model\n",
    "from sklearn import preprocessing\n",
    "from sklearn.svm import SVR\n",
    "from sklearn.ensemble import RandomForestRegressor,GradientBoostingRegressor\n",
    "\n",
    "## 数据降维处理的\n",
    "from sklearn.decomposition import PCA,FastICA,FactorAnalysis,SparsePCA\n",
    "\n",
    "import lightgbm as lgb\n",
    "import xgboost as xgb\n",
    "\n",
    "## 参数搜索和评价的\n",
    "from sklearn.model_selection import GridSearchCV,cross_val_score,StratifiedKFold,train_test_split\n",
    "from sklearn.metrics import mean_squared_error, mean_absolute_error"
   ]
  },
  {
   "cell_type": "markdown",
   "id": "f7fc92a9",
   "metadata": {},
   "source": [
    "## Step1: 读取数据"
   ]
  },
  {
   "cell_type": "code",
   "execution_count": 2,
   "id": "69c50b7a",
   "metadata": {},
   "outputs": [
    {
     "name": "stdout",
     "output_type": "stream",
     "text": [
      "shape: (103585, 160)\n"
     ]
    }
   ],
   "source": [
    "## 通过Pandas对于数据进行读取 (pandas是一个很友好的数据读取函数库)\n",
    "data = pd.read_csv('whole_car_9.csv')\n",
    "\n",
    "## 输出数据的大小信息\n",
    "print('shape:',data.shape)"
   ]
  },
  {
   "cell_type": "markdown",
   "id": "0682f48d",
   "metadata": {},
   "source": [
    "### 1) 数据简要浏览"
   ]
  },
  {
   "cell_type": "code",
   "execution_count": 3,
   "id": "b4801b05",
   "metadata": {},
   "outputs": [
    {
     "data": {
      "text/html": [
       "<div>\n",
       "<style scoped>\n",
       "    .dataframe tbody tr th:only-of-type {\n",
       "        vertical-align: middle;\n",
       "    }\n",
       "\n",
       "    .dataframe tbody tr th {\n",
       "        vertical-align: top;\n",
       "    }\n",
       "\n",
       "    .dataframe thead th {\n",
       "        text-align: right;\n",
       "    }\n",
       "</style>\n",
       "<table border=\"1\" class=\"dataframe\">\n",
       "  <thead>\n",
       "    <tr style=\"text-align: right;\">\n",
       "      <th></th>\n",
       "      <th>Unnamed: 0</th>\n",
       "      <th>Brand</th>\n",
       "      <th>Series</th>\n",
       "      <th>CarName</th>\n",
       "      <th>Province</th>\n",
       "      <th>City</th>\n",
       "      <th>Miles</th>\n",
       "      <th>Date</th>\n",
       "      <th>二手车报价</th>\n",
       "      <th>新车厂商指导价</th>\n",
       "      <th>...</th>\n",
       "      <th>MarketTime_std</th>\n",
       "      <th>MaxPower_std</th>\n",
       "      <th>MaxTorque_std</th>\n",
       "      <th>Displacement_std</th>\n",
       "      <th>size_l_std</th>\n",
       "      <th>size_w_std</th>\n",
       "      <th>size_h_std</th>\n",
       "      <th>Doors_std</th>\n",
       "      <th>Seats_std</th>\n",
       "      <th>Oil_std</th>\n",
       "    </tr>\n",
       "  </thead>\n",
       "  <tbody>\n",
       "    <tr>\n",
       "      <th>0</th>\n",
       "      <td>0</td>\n",
       "      <td>奥迪</td>\n",
       "      <td>奥迪Q5</td>\n",
       "      <td>奥迪Q5 2017款 Plus 40 TFSI 技术型</td>\n",
       "      <td>四川</td>\n",
       "      <td>成都</td>\n",
       "      <td>7.55</td>\n",
       "      <td>18-Feb</td>\n",
       "      <td>26.58</td>\n",
       "      <td>42.76万</td>\n",
       "      <td>...</td>\n",
       "      <td>-0.471691</td>\n",
       "      <td>0.156421</td>\n",
       "      <td>0.353657</td>\n",
       "      <td>-0.227530</td>\n",
       "      <td>-0.334766</td>\n",
       "      <td>0.609859</td>\n",
       "      <td>0.563339</td>\n",
       "      <td>0.826215</td>\n",
       "      <td>-0.104530</td>\n",
       "      <td>0.357155</td>\n",
       "    </tr>\n",
       "    <tr>\n",
       "      <th>1</th>\n",
       "      <td>1</td>\n",
       "      <td>奥迪</td>\n",
       "      <td>奥迪A4L</td>\n",
       "      <td>奥迪A4L 2015款 35 TFSI 自动标准型</td>\n",
       "      <td>浙江</td>\n",
       "      <td>温州</td>\n",
       "      <td>10.00</td>\n",
       "      <td>14-Oct</td>\n",
       "      <td>13.50</td>\n",
       "      <td>31.28万</td>\n",
       "      <td>...</td>\n",
       "      <td>0.517681</td>\n",
       "      <td>-0.391128</td>\n",
       "      <td>0.110327</td>\n",
       "      <td>-0.227530</td>\n",
       "      <td>0.056504</td>\n",
       "      <td>-0.359804</td>\n",
       "      <td>-0.824623</td>\n",
       "      <td>-0.488452</td>\n",
       "      <td>-0.104530</td>\n",
       "      <td>NaN</td>\n",
       "    </tr>\n",
       "    <tr>\n",
       "      <th>2</th>\n",
       "      <td>2</td>\n",
       "      <td>宝马</td>\n",
       "      <td>宝马8系</td>\n",
       "      <td>宝马8系 2019款 840i 双门轿跑车 M运动套装</td>\n",
       "      <td>河北</td>\n",
       "      <td>石家庄</td>\n",
       "      <td>0.70</td>\n",
       "      <td>19-Dec</td>\n",
       "      <td>83.50</td>\n",
       "      <td>109.80万</td>\n",
       "      <td>...</td>\n",
       "      <td>-1.166926</td>\n",
       "      <td>1.355108</td>\n",
       "      <td>1.570305</td>\n",
       "      <td>1.041552</td>\n",
       "      <td>0.341065</td>\n",
       "      <td>0.663729</td>\n",
       "      <td>-1.345109</td>\n",
       "      <td>-3.117786</td>\n",
       "      <td>-1.269811</td>\n",
       "      <td>-0.045872</td>\n",
       "    </tr>\n",
       "    <tr>\n",
       "      <th>3</th>\n",
       "      <td>3</td>\n",
       "      <td>宝马</td>\n",
       "      <td>宝马5系</td>\n",
       "      <td>宝马5系 2014款 525Li 豪华设计套装</td>\n",
       "      <td>四川</td>\n",
       "      <td>成都</td>\n",
       "      <td>10.00</td>\n",
       "      <td>14-Sep</td>\n",
       "      <td>24.28</td>\n",
       "      <td>49.96万</td>\n",
       "      <td>...</td>\n",
       "      <td>0.758340</td>\n",
       "      <td>0.023233</td>\n",
       "      <td>0.029217</td>\n",
       "      <td>-0.227530</td>\n",
       "      <td>0.927971</td>\n",
       "      <td>0.098093</td>\n",
       "      <td>-0.490484</td>\n",
       "      <td>-0.488452</td>\n",
       "      <td>-0.104530</td>\n",
       "      <td>NaN</td>\n",
       "    </tr>\n",
       "    <tr>\n",
       "      <th>4</th>\n",
       "      <td>4</td>\n",
       "      <td>奥迪</td>\n",
       "      <td>奥迪A8</td>\n",
       "      <td>奥迪A8 2013款 A8L 45 TFSI quattro舒适型</td>\n",
       "      <td>山东</td>\n",
       "      <td>青岛</td>\n",
       "      <td>7.30</td>\n",
       "      <td>14-May</td>\n",
       "      <td>31.80</td>\n",
       "      <td>93.10万</td>\n",
       "      <td>...</td>\n",
       "      <td>1.079217</td>\n",
       "      <td>0.807560</td>\n",
       "      <td>0.921426</td>\n",
       "      <td>1.041552</td>\n",
       "      <td>1.556375</td>\n",
       "      <td>1.296704</td>\n",
       "      <td>-0.689682</td>\n",
       "      <td>-0.488452</td>\n",
       "      <td>-0.104530</td>\n",
       "      <td>1.062452</td>\n",
       "    </tr>\n",
       "  </tbody>\n",
       "</table>\n",
       "<p>5 rows × 160 columns</p>\n",
       "</div>"
      ],
      "text/plain": [
       "   Unnamed: 0 Brand Series                            CarName Province City  \\\n",
       "0           0    奥迪   奥迪Q5        奥迪Q5 2017款 Plus 40 TFSI 技术型       四川   成都   \n",
       "1           1    奥迪  奥迪A4L          奥迪A4L 2015款 35 TFSI 自动标准型       浙江   温州   \n",
       "2           2    宝马   宝马8系        宝马8系 2019款 840i 双门轿跑车 M运动套装       河北  石家庄   \n",
       "3           3    宝马   宝马5系            宝马5系 2014款 525Li 豪华设计套装       四川   成都   \n",
       "4           4    奥迪   奥迪A8  奥迪A8 2013款 A8L 45 TFSI quattro舒适型       山东   青岛   \n",
       "\n",
       "   Miles    Date  二手车报价  新车厂商指导价  ... MarketTime_std MaxPower_std  \\\n",
       "0   7.55  18-Feb  26.58   42.76万  ...      -0.471691     0.156421   \n",
       "1  10.00  14-Oct  13.50   31.28万  ...       0.517681    -0.391128   \n",
       "2   0.70  19-Dec  83.50  109.80万  ...      -1.166926     1.355108   \n",
       "3  10.00  14-Sep  24.28   49.96万  ...       0.758340     0.023233   \n",
       "4   7.30  14-May  31.80   93.10万  ...       1.079217     0.807560   \n",
       "\n",
       "  MaxTorque_std  Displacement_std size_l_std size_w_std size_h_std Doors_std  \\\n",
       "0      0.353657         -0.227530  -0.334766   0.609859   0.563339  0.826215   \n",
       "1      0.110327         -0.227530   0.056504  -0.359804  -0.824623 -0.488452   \n",
       "2      1.570305          1.041552   0.341065   0.663729  -1.345109 -3.117786   \n",
       "3      0.029217         -0.227530   0.927971   0.098093  -0.490484 -0.488452   \n",
       "4      0.921426          1.041552   1.556375   1.296704  -0.689682 -0.488452   \n",
       "\n",
       "  Seats_std   Oil_std  \n",
       "0 -0.104530  0.357155  \n",
       "1 -0.104530       NaN  \n",
       "2 -1.269811 -0.045872  \n",
       "3 -0.104530       NaN  \n",
       "4 -0.104530  1.062452  \n",
       "\n",
       "[5 rows x 160 columns]"
      ]
     },
     "execution_count": 3,
     "metadata": {},
     "output_type": "execute_result"
    }
   ],
   "source": [
    "## 通过.head() 简要浏览读取数据的形式\n",
    "data.head()"
   ]
  },
  {
   "cell_type": "markdown",
   "id": "d7c3ab53",
   "metadata": {},
   "source": [
    "### 2) 数据信息查看"
   ]
  },
  {
   "cell_type": "code",
   "execution_count": 4,
   "id": "d2f432e4",
   "metadata": {},
   "outputs": [
    {
     "name": "stdout",
     "output_type": "stream",
     "text": [
      "<class 'pandas.core.frame.DataFrame'>\n",
      "RangeIndex: 103585 entries, 0 to 103584\n",
      "Columns: 160 entries, Unnamed: 0 to Oil_std\n",
      "dtypes: float64(132), int64(9), object(19)\n",
      "memory usage: 126.4+ MB\n"
     ]
    }
   ],
   "source": [
    "data.info()"
   ]
  },
  {
   "cell_type": "markdown",
   "id": "2a428aef",
   "metadata": {},
   "source": [
    "### 3)数据统计信息浏览"
   ]
  },
  {
   "cell_type": "code",
   "execution_count": 54,
   "id": "a0e94baa",
   "metadata": {},
   "outputs": [
    {
     "data": {
      "text/html": [
       "<div>\n",
       "<style scoped>\n",
       "    .dataframe tbody tr th:only-of-type {\n",
       "        vertical-align: middle;\n",
       "    }\n",
       "\n",
       "    .dataframe tbody tr th {\n",
       "        vertical-align: top;\n",
       "    }\n",
       "\n",
       "    .dataframe thead th {\n",
       "        text-align: right;\n",
       "    }\n",
       "</style>\n",
       "<table border=\"1\" class=\"dataframe\">\n",
       "  <thead>\n",
       "    <tr style=\"text-align: right;\">\n",
       "      <th></th>\n",
       "      <th>Unnamed: 0</th>\n",
       "      <th>Miles</th>\n",
       "      <th>二手车报价</th>\n",
       "      <th>上市时间</th>\n",
       "      <th>Brand_label</th>\n",
       "      <th>Series_label</th>\n",
       "      <th>CarName_label</th>\n",
       "      <th>Province_label</th>\n",
       "      <th>citycode_0</th>\n",
       "      <th>citycode_1</th>\n",
       "      <th>...</th>\n",
       "      <th>Doors_std</th>\n",
       "      <th>Seats_std</th>\n",
       "      <th>Oil_std</th>\n",
       "      <th>series_amount</th>\n",
       "      <th>series_price_max</th>\n",
       "      <th>series_price_median</th>\n",
       "      <th>series_price_min</th>\n",
       "      <th>series_price_sum</th>\n",
       "      <th>series_price_std</th>\n",
       "      <th>series_price_average</th>\n",
       "    </tr>\n",
       "  </thead>\n",
       "  <tbody>\n",
       "    <tr>\n",
       "      <th>count</th>\n",
       "      <td>103585.000000</td>\n",
       "      <td>103585.000000</td>\n",
       "      <td>103585.000000</td>\n",
       "      <td>103585.000000</td>\n",
       "      <td>103585.000000</td>\n",
       "      <td>103585.000000</td>\n",
       "      <td>103585.000000</td>\n",
       "      <td>103585.000000</td>\n",
       "      <td>103585.000000</td>\n",
       "      <td>103585.000000</td>\n",
       "      <td>...</td>\n",
       "      <td>1.035850e+05</td>\n",
       "      <td>1.035850e+05</td>\n",
       "      <td>9.095100e+04</td>\n",
       "      <td>103585.000000</td>\n",
       "      <td>103585.000000</td>\n",
       "      <td>103585.000000</td>\n",
       "      <td>103585.000000</td>\n",
       "      <td>103585.000000</td>\n",
       "      <td>103433.000000</td>\n",
       "      <td>103585.000000</td>\n",
       "    </tr>\n",
       "    <tr>\n",
       "      <th>mean</th>\n",
       "      <td>51792.000000</td>\n",
       "      <td>6.499733</td>\n",
       "      <td>29.964123</td>\n",
       "      <td>2015.606303</td>\n",
       "      <td>62.763547</td>\n",
       "      <td>575.085707</td>\n",
       "      <td>6392.923995</td>\n",
       "      <td>13.761896</td>\n",
       "      <td>0.048627</td>\n",
       "      <td>0.040923</td>\n",
       "      <td>...</td>\n",
       "      <td>2.311211e-15</td>\n",
       "      <td>8.793160e-15</td>\n",
       "      <td>-2.571673e-16</td>\n",
       "      <td>0.223903</td>\n",
       "      <td>0.017899</td>\n",
       "      <td>0.008628</td>\n",
       "      <td>0.004079</td>\n",
       "      <td>0.221685</td>\n",
       "      <td>0.061792</td>\n",
       "      <td>0.011839</td>\n",
       "    </tr>\n",
       "    <tr>\n",
       "      <th>std</th>\n",
       "      <td>29902.558154</td>\n",
       "      <td>4.079936</td>\n",
       "      <td>48.782001</td>\n",
       "      <td>3.115996</td>\n",
       "      <td>30.398523</td>\n",
       "      <td>327.676034</td>\n",
       "      <td>3910.064232</td>\n",
       "      <td>7.619490</td>\n",
       "      <td>0.215087</td>\n",
       "      <td>0.198113</td>\n",
       "      <td>...</td>\n",
       "      <td>1.000005e+00</td>\n",
       "      <td>1.000005e+00</td>\n",
       "      <td>1.000005e+00</td>\n",
       "      <td>0.259644</td>\n",
       "      <td>0.027752</td>\n",
       "      <td>0.013417</td>\n",
       "      <td>0.010210</td>\n",
       "      <td>0.276987</td>\n",
       "      <td>0.096581</td>\n",
       "      <td>0.017495</td>\n",
       "    </tr>\n",
       "    <tr>\n",
       "      <th>min</th>\n",
       "      <td>0.000000</td>\n",
       "      <td>0.010000</td>\n",
       "      <td>0.480000</td>\n",
       "      <td>2006.060000</td>\n",
       "      <td>0.000000</td>\n",
       "      <td>0.000000</td>\n",
       "      <td>0.000000</td>\n",
       "      <td>0.000000</td>\n",
       "      <td>0.000000</td>\n",
       "      <td>0.000000</td>\n",
       "      <td>...</td>\n",
       "      <td>-3.117786e+00</td>\n",
       "      <td>-3.600371e+00</td>\n",
       "      <td>-3.521980e+00</td>\n",
       "      <td>0.000000</td>\n",
       "      <td>0.000000</td>\n",
       "      <td>0.000000</td>\n",
       "      <td>0.000000</td>\n",
       "      <td>0.000000</td>\n",
       "      <td>0.000000</td>\n",
       "      <td>0.000000</td>\n",
       "    </tr>\n",
       "    <tr>\n",
       "      <th>25%</th>\n",
       "      <td>25896.000000</td>\n",
       "      <td>3.300000</td>\n",
       "      <td>9.800000</td>\n",
       "      <td>2013.090000</td>\n",
       "      <td>54.000000</td>\n",
       "      <td>384.000000</td>\n",
       "      <td>3570.000000</td>\n",
       "      <td>9.000000</td>\n",
       "      <td>0.000000</td>\n",
       "      <td>0.000000</td>\n",
       "      <td>...</td>\n",
       "      <td>-4.884518e-01</td>\n",
       "      <td>-1.045304e-01</td>\n",
       "      <td>-6.504129e-01</td>\n",
       "      <td>0.043074</td>\n",
       "      <td>0.005135</td>\n",
       "      <td>0.002992</td>\n",
       "      <td>0.001234</td>\n",
       "      <td>0.023007</td>\n",
       "      <td>0.015393</td>\n",
       "      <td>0.004066</td>\n",
       "    </tr>\n",
       "    <tr>\n",
       "      <th>50%</th>\n",
       "      <td>51792.000000</td>\n",
       "      <td>6.000000</td>\n",
       "      <td>17.980000</td>\n",
       "      <td>2016.060000</td>\n",
       "      <td>58.000000</td>\n",
       "      <td>535.000000</td>\n",
       "      <td>5973.000000</td>\n",
       "      <td>14.000000</td>\n",
       "      <td>0.000000</td>\n",
       "      <td>0.000000</td>\n",
       "      <td>...</td>\n",
       "      <td>-4.884518e-01</td>\n",
       "      <td>-1.045304e-01</td>\n",
       "      <td>-1.970075e-01</td>\n",
       "      <td>0.129532</td>\n",
       "      <td>0.010241</td>\n",
       "      <td>0.005831</td>\n",
       "      <td>0.001811</td>\n",
       "      <td>0.074101</td>\n",
       "      <td>0.032662</td>\n",
       "      <td>0.007566</td>\n",
       "    </tr>\n",
       "    <tr>\n",
       "      <th>75%</th>\n",
       "      <td>77688.000000</td>\n",
       "      <td>9.000000</td>\n",
       "      <td>32.800000</td>\n",
       "      <td>2018.080000</td>\n",
       "      <td>79.000000</td>\n",
       "      <td>795.000000</td>\n",
       "      <td>9361.000000</td>\n",
       "      <td>18.000000</td>\n",
       "      <td>0.000000</td>\n",
       "      <td>0.000000</td>\n",
       "      <td>...</td>\n",
       "      <td>8.262153e-01</td>\n",
       "      <td>-1.045304e-01</td>\n",
       "      <td>5.082897e-01</td>\n",
       "      <td>0.291292</td>\n",
       "      <td>0.017645</td>\n",
       "      <td>0.009174</td>\n",
       "      <td>0.004089</td>\n",
       "      <td>0.397658</td>\n",
       "      <td>0.067454</td>\n",
       "      <td>0.013042</td>\n",
       "    </tr>\n",
       "    <tr>\n",
       "      <th>max</th>\n",
       "      <td>103584.000000</td>\n",
       "      <td>46.800000</td>\n",
       "      <td>3350.000000</td>\n",
       "      <td>2022.010000</td>\n",
       "      <td>134.000000</td>\n",
       "      <td>1258.000000</td>\n",
       "      <td>14094.000000</td>\n",
       "      <td>28.000000</td>\n",
       "      <td>1.000000</td>\n",
       "      <td>1.000000</td>\n",
       "      <td>...</td>\n",
       "      <td>2.140882e+00</td>\n",
       "      <td>6.887151e+00</td>\n",
       "      <td>6.201046e+00</td>\n",
       "      <td>1.000000</td>\n",
       "      <td>1.000000</td>\n",
       "      <td>1.000000</td>\n",
       "      <td>1.000000</td>\n",
       "      <td>1.000000</td>\n",
       "      <td>1.000000</td>\n",
       "      <td>1.000000</td>\n",
       "    </tr>\n",
       "  </tbody>\n",
       "</table>\n",
       "<p>8 rows × 148 columns</p>\n",
       "</div>"
      ],
      "text/plain": [
       "          Unnamed: 0          Miles          二手车报价           上市时间  \\\n",
       "count  103585.000000  103585.000000  103585.000000  103585.000000   \n",
       "mean    51792.000000       6.499733      29.964123    2015.606303   \n",
       "std     29902.558154       4.079936      48.782001       3.115996   \n",
       "min         0.000000       0.010000       0.480000    2006.060000   \n",
       "25%     25896.000000       3.300000       9.800000    2013.090000   \n",
       "50%     51792.000000       6.000000      17.980000    2016.060000   \n",
       "75%     77688.000000       9.000000      32.800000    2018.080000   \n",
       "max    103584.000000      46.800000    3350.000000    2022.010000   \n",
       "\n",
       "         Brand_label   Series_label  CarName_label  Province_label  \\\n",
       "count  103585.000000  103585.000000  103585.000000   103585.000000   \n",
       "mean       62.763547     575.085707    6392.923995       13.761896   \n",
       "std        30.398523     327.676034    3910.064232        7.619490   \n",
       "min         0.000000       0.000000       0.000000        0.000000   \n",
       "25%        54.000000     384.000000    3570.000000        9.000000   \n",
       "50%        58.000000     535.000000    5973.000000       14.000000   \n",
       "75%        79.000000     795.000000    9361.000000       18.000000   \n",
       "max       134.000000    1258.000000   14094.000000       28.000000   \n",
       "\n",
       "          citycode_0     citycode_1  ...     Doors_std     Seats_std  \\\n",
       "count  103585.000000  103585.000000  ...  1.035850e+05  1.035850e+05   \n",
       "mean        0.048627       0.040923  ...  2.311211e-15  8.793160e-15   \n",
       "std         0.215087       0.198113  ...  1.000005e+00  1.000005e+00   \n",
       "min         0.000000       0.000000  ... -3.117786e+00 -3.600371e+00   \n",
       "25%         0.000000       0.000000  ... -4.884518e-01 -1.045304e-01   \n",
       "50%         0.000000       0.000000  ... -4.884518e-01 -1.045304e-01   \n",
       "75%         0.000000       0.000000  ...  8.262153e-01 -1.045304e-01   \n",
       "max         1.000000       1.000000  ...  2.140882e+00  6.887151e+00   \n",
       "\n",
       "            Oil_std  series_amount  series_price_max  series_price_median  \\\n",
       "count  9.095100e+04  103585.000000     103585.000000        103585.000000   \n",
       "mean  -2.571673e-16       0.223903          0.017899             0.008628   \n",
       "std    1.000005e+00       0.259644          0.027752             0.013417   \n",
       "min   -3.521980e+00       0.000000          0.000000             0.000000   \n",
       "25%   -6.504129e-01       0.043074          0.005135             0.002992   \n",
       "50%   -1.970075e-01       0.129532          0.010241             0.005831   \n",
       "75%    5.082897e-01       0.291292          0.017645             0.009174   \n",
       "max    6.201046e+00       1.000000          1.000000             1.000000   \n",
       "\n",
       "       series_price_min  series_price_sum  series_price_std  \\\n",
       "count     103585.000000     103585.000000     103433.000000   \n",
       "mean           0.004079          0.221685          0.061792   \n",
       "std            0.010210          0.276987          0.096581   \n",
       "min            0.000000          0.000000          0.000000   \n",
       "25%            0.001234          0.023007          0.015393   \n",
       "50%            0.001811          0.074101          0.032662   \n",
       "75%            0.004089          0.397658          0.067454   \n",
       "max            1.000000          1.000000          1.000000   \n",
       "\n",
       "       series_price_average  \n",
       "count         103585.000000  \n",
       "mean               0.011839  \n",
       "std                0.017495  \n",
       "min                0.000000  \n",
       "25%                0.004066  \n",
       "50%                0.007566  \n",
       "75%                0.013042  \n",
       "max                1.000000  \n",
       "\n",
       "[8 rows x 148 columns]"
      ]
     },
     "execution_count": 54,
     "metadata": {},
     "output_type": "execute_result"
    }
   ],
   "source": [
    "## 通过 .describe() 可以查看数值特征列的一些统计信息\n",
    "data.describe()"
   ]
  },
  {
   "cell_type": "markdown",
   "id": "56072d4f",
   "metadata": {},
   "source": [
    "## Step2: 特征与标签构建"
   ]
  },
  {
   "cell_type": "code",
   "execution_count": 6,
   "id": "6240750b",
   "metadata": {},
   "outputs": [],
   "source": [
    "# 计算某系列Series的统计量\n",
    "\n",
    "groupby = data.groupby(\"Series_label\")\n",
    "all_info = {}\n",
    "for kind, kind_data in groupby:\n",
    "    info = {}\n",
    "    kind_data = kind_data[kind_data['二手车报价'] > 0]\n",
    "    kind_data.rename(columns={'二手车报价': 'price'}, inplace=True)\n",
    "    info['series_amount'] = len(kind_data)\n",
    "    info['series_price_max'] = kind_data.price.max()\n",
    "    info['series_price_median'] = kind_data.price.median()\n",
    "    info['series_price_min'] = kind_data.price.min()\n",
    "    info['series_price_sum'] = kind_data.price.sum()\n",
    "    info['series_price_std'] = kind_data.price.std()\n",
    "    info['series_price_average'] = round(kind_data.price.sum() / (len(kind_data) + 1), 2)\n",
    "    all_info[kind] = info\n",
    "brand_fe = pd.DataFrame(all_info).T.reset_index().rename(columns={\"index\": \"Series_label\"})\n",
    "data = data.merge(brand_fe, how='left', on='Series_label')"
   ]
  },
  {
   "cell_type": "code",
   "execution_count": 7,
   "id": "4066f13f",
   "metadata": {},
   "outputs": [],
   "source": [
    "def max_min(x):\n",
    "    return (x - np.min(x)) / (np.max(x) - np.min(x))\n",
    "\n",
    "data['series_amount'] = ((data['series_amount'] - np.min(data['series_amount'])) / \n",
    "                        (np.max(data['series_amount']) - np.min(data['series_amount'])))\n",
    "data['series_price_average'] = ((data['series_price_average'] - np.min(data['series_price_average'])) / \n",
    "                               (np.max(data['series_price_average']) - np.min(data['series_price_average'])))\n",
    "data['series_price_max'] = ((data['series_price_max'] - np.min(data['series_price_max'])) / \n",
    "                           (np.max(data['series_price_max']) - np.min(data['series_price_max'])))\n",
    "data['series_price_median'] = ((data['series_price_median'] - np.min(data['series_price_median'])) /\n",
    "                              (np.max(data['series_price_median']) - np.min(data['series_price_median'])))\n",
    "data['series_price_min'] = ((data['series_price_min'] - np.min(data['series_price_min'])) / \n",
    "                           (np.max(data['series_price_min']) - np.min(data['series_price_min'])))\n",
    "data['series_price_std'] = ((data['series_price_std'] - np.min(data['series_price_std'])) / \n",
    "                           (np.max(data['series_price_std']) - np.min(data['series_price_std'])))\n",
    "data['series_price_sum'] = ((data['series_price_sum'] - np.min(data['series_price_sum'])) / \n",
    "                           (np.max(data['series_price_sum']) - np.min(data['series_price_sum'])))"
   ]
  },
  {
   "cell_type": "code",
   "execution_count": 19,
   "id": "6e5f7255",
   "metadata": {},
   "outputs": [],
   "source": [
    "X_data = data[[\n",
    "              'Series_label',  # 车系标签\n",
    "              'Miles_std',  # 行驶里程\n",
    "              'CarAge_std',  # 车龄（月）\n",
    "              'Price_NewCar_std',  # 新车价格\n",
    "              'MarketTime_std',  # 上市时间（月）\n",
    "              'MaxPower_std',  # 最大功率\n",
    "              'MaxTorque_std',  # 最大扭矩\n",
    "              'Displacement_std',  # 排量\n",
    "              'size_l_std',  # 车辆尺寸-长\n",
    "              'size_w_std',  # 车辆尺寸-宽\n",
    "              'size_h_std',  # 车辆尺寸-高\n",
    "              'Doors_std',  # 车门数量\n",
    "              'Seats_std',  # 座位数量\n",
    "              'Oil_std',  # 耗油量\n",
    "              'DepriciationRate',  # 贬值率\n",
    "              'citycode_0',  # 城市编码\n",
    "              'citycode_1',\n",
    "              'citycode_2',\n",
    "              'citycode_3',\n",
    "              'citycode_4',\n",
    "              'citycode_5',\n",
    "              'citycode_6',\n",
    "              'citycode_7',\n",
    "              'citycode_8',\n",
    "              'citycode_9',\n",
    "              'citycode_10',\n",
    "              'citycode_11',\n",
    "              'citycode_12',\n",
    "              'citycode_13',\n",
    "              'citycode_14',\n",
    "              'citycode_15',\n",
    "              'citycode_16',\n",
    "              'citycode_17',\n",
    "              'citycode_18',\n",
    "              'citycode_19',\n",
    "              'citycode_20',\n",
    "              'citycode_21',\n",
    "              'citycode_22',\n",
    "              'citycode_23',\n",
    "              'citycode_24',\n",
    "              'citycode_25',\n",
    "              'citycode_26',\n",
    "              'citycode_27',\n",
    "              'citycode_28',\n",
    "              'levelcode_0',  # 车辆级别编码-例如“紧凑型SUV”\n",
    "              'levelcode_1',\n",
    "              'levelcode_2',\n",
    "              'levelcode_3',\n",
    "              'levelcode_4',\n",
    "              'levelcode_5',\n",
    "              'levelcode_6',\n",
    "              'levelcode_7',\n",
    "              'levelcode_8',\n",
    "              'levelcode_9',\n",
    "              'levelcode_10',\n",
    "              'levelcode_11',\n",
    "              'levelcode_12',\n",
    "              'levelcode_13',\n",
    "              'levelcode_14',\n",
    "              'levelcode_15',\n",
    "              'levelcode_16',\n",
    "              'isEV',  # 能源类型编码\n",
    "              'isICE',\n",
    "              'pollutioncode_0',  # 污染等级编码\n",
    "              'pollutioncode_1',\n",
    "              'pollutioncode_2',\n",
    "              'pollutioncode_3',\n",
    "              \"isTurbo\",  # 涡轮增压编码\n",
    "              \"notTurbo\",\n",
    "              \"TurboNotApplicable\",\n",
    "              'transmissioncode_0',  # 变速箱类型编码\n",
    "              'transmissioncode_1',\n",
    "              'transmissioncode_2',\n",
    "              'transmissioncode_3',\n",
    "              'transmissioncode_4',\n",
    "              'transmissioncode_5',\n",
    "              'transmissioncode_6',\n",
    "              'transmissioncode_7',\n",
    "              'transmissioncode_8',\n",
    "              'transmissioncode_9',\n",
    "              'transmissioncode_10',\n",
    "              'transmissioncode_11',\n",
    "              'transmissioncode_12',\n",
    "              'transmissioncode_13',\n",
    "              'transmissioncode_14',\n",
    "              'transmissioncode_15',\n",
    "              'transmissioncode_16',\n",
    "              'transmissioncode_17',\n",
    "              'transmissioncode_18',\n",
    "              'transmissioncode_19',\n",
    "              'transmissioncode_20',\n",
    "              'transmissioncode_21',\n",
    "              'transmissioncode_22',\n",
    "              'transmissioncode_23',\n",
    "              'transmissioncode_24',\n",
    "              'transmissioncode_25',\n",
    "              'transmissioncode_26',\n",
    "              'transmissioncode_27',\n",
    "              'transmissioncode_28',\n",
    "              'transmissioncode_29',\n",
    "              'transmissioncode_30',\n",
    "              'transmissioncode_31',\n",
    "              'transmissioncode_32',\n",
    "              'transmissioncode_33',\n",
    "              'transmissioncode_34',\n",
    "              'transmissioncode_35',\n",
    "              'transmissioncode_36',\n",
    "              'series_amount', 'series_price_average', 'series_price_max', 'series_price_median', 'series_price_min', 'series_price_std', 'series_price_sum'\n",
    "              ]]"
   ]
  },
  {
   "cell_type": "code",
   "execution_count": 20,
   "id": "34afb30b",
   "metadata": {},
   "outputs": [],
   "source": [
    "# X_data = data[['Brand_label', 'Series_label', 'CarName_label', 'Province_label', 'City_label', 'Miles_std', 'CarAge_std', 'Price_NewCar_std', 'Level_label', \n",
    "#                'isEV', 'isICE', 'PollutionType', 'MarketTime', 'MaxPower', 'MaxTorque', 'Displacement', 'size_l', 'size_w', 'size_h', 'Doors', 'Seats', 'Oil', \n",
    "#               'series_amount', 'series_price_average', 'series_price_max', 'series_price_median', 'series_price_min', 'series_price_std', 'series_price_sum']]\n",
    "# print(X_data)\n",
    "# X_data = data[temp_column]\n",
    "Y_data = data[['二手车报价']]\n",
    "\n",
    "\n",
    "X_data = X_data.fillna(-1)\n",
    "\n",
    "## Split data with test\n",
    "x_train,x_test,y_train,y_test = train_test_split(X_data,Y_data,test_size=0.2)"
   ]
  },
  {
   "cell_type": "code",
   "execution_count": 21,
   "id": "442cd70c",
   "metadata": {},
   "outputs": [
    {
     "name": "stdout",
     "output_type": "stream",
     "text": [
      "(82868, 114)\n",
      "(20717, 114)\n",
      "(82868, 1)\n",
      "(20717, 1)\n"
     ]
    }
   ],
   "source": [
    "print(x_train.shape)\n",
    "print(x_test.shape)\n",
    "print(y_train.shape)\n",
    "print(y_test.shape)"
   ]
  },
  {
   "cell_type": "markdown",
   "id": "d0e0c6f9",
   "metadata": {},
   "source": [
    "## Step3: 模型训练"
   ]
  },
  {
   "cell_type": "code",
   "execution_count": 30,
   "id": "56520212",
   "metadata": {},
   "outputs": [
    {
     "name": "stdout",
     "output_type": "stream",
     "text": [
      "Train mae: 1.330496406806975\n",
      "Test mae 1.4135390765234563\n"
     ]
    }
   ],
   "source": [
    "## xgb-Model\n",
    "xgr = xgb.XGBRegressor(n_estimators=200, learning_rate=0.1, gamma=0, subsample=0.8,\\\n",
    "        colsample_bytree=0.9, max_depth=7) #,objective ='reg:squarederror'\n",
    "param_grid = {\n",
    "    'learning_rate': [0.01, 0.05,0.1, 0.2],\n",
    "    'max_depth': [3,5,7,10,15,20,40,55],\n",
    "}\n",
    "xgr = GridSearchCV(xgr, param_grid)\n",
    "xgr.fit(x_train,y_train)\n",
    "pred_train_xgb=xgr.predict(x_train)\n",
    "pred_xgb=xgr.predict(x_test)\n",
    "\n",
    "score_train = mean_absolute_error(y_train,pred_train_xgb)\n",
    "score = mean_absolute_error(y_test,pred_xgb)\n",
    "\n",
    "print('Train mae:',score_train)\n",
    "print('Test mae',score)"
   ]
  },
  {
   "cell_type": "code",
   "execution_count": 34,
   "id": "a2f1fabf",
   "metadata": {},
   "outputs": [
    {
     "name": "stdout",
     "output_type": "stream",
     "text": [
      "Train mae: 0.47722953670088275\n",
      "Test mae 0.6335691838765481\n"
     ]
    }
   ],
   "source": [
    "xgr_1 = xgb.XGBRegressor(n_estimators=200, learning_rate=0.1, gamma=0, subsample=0.8,\\\n",
    "        colsample_bytree=0.9, max_depth=7) #,objective ='reg:squarederror'\n",
    "\n",
    "xgr_1.fit(x_train,y_train)\n",
    "pred_train_xgb_1=xgr_1.predict(x_train)\n",
    "pred_xgb_1=xgr_1.predict(x_test)\n",
    "\n",
    "score_train = mean_absolute_error(y_train,pred_train_xgb_1)\n",
    "score = mean_absolute_error(y_test,pred_xgb_1)\n",
    "\n",
    "print('Train mae:',score_train)\n",
    "print('Test mae',score)"
   ]
  },
  {
   "cell_type": "code",
   "execution_count": 53,
   "id": "66886bd4",
   "metadata": {},
   "outputs": [
    {
     "data": {
      "text/plain": [
       "{'learning_rate': 0.2, 'max_depth': 3}"
      ]
     },
     "execution_count": 53,
     "metadata": {},
     "output_type": "execute_result"
    }
   ],
   "source": [
    "xgr.best_params_"
   ]
  },
  {
   "cell_type": "code",
   "execution_count": 32,
   "id": "382b6fb7",
   "metadata": {},
   "outputs": [
    {
     "name": "stdout",
     "output_type": "stream",
     "text": [
      "Train mae: 0.690751495331581\n",
      "Test mae 0.8423818724321701\n"
     ]
    }
   ],
   "source": [
    "# light-gbm Model\n",
    "estimator = lgb.LGBMRegressor(n_estimators = 200)\n",
    "param_grid = {\n",
    "    'learning_rate': [0.01, 0.05, 0.1, 0.2],\n",
    "    'num_leaves':[15,31,63,128], \n",
    "}\n",
    "gbm = GridSearchCV(estimator, param_grid)\n",
    "gbm.fit(x_train, y_train)\n",
    "pred_train_gbm=gbm.predict(x_train)\n",
    "pred_gbm=gbm.predict(x_test)\n",
    "\n",
    "score_train = mean_absolute_error(y_train,pred_train_gbm)\n",
    "score = mean_absolute_error(y_test,pred_gbm)\n",
    "\n",
    "print('Train mae:',score_train)\n",
    "print('Test mae',score)"
   ]
  },
  {
   "cell_type": "code",
   "execution_count": 46,
   "id": "cc53d63e",
   "metadata": {},
   "outputs": [
    {
     "name": "stdout",
     "output_type": "stream",
     "text": [
      "Train mae: 0.5704405615123789\n",
      "Test mae 0.69746551680735\n"
     ]
    }
   ],
   "source": [
    "# light-gbm Model\n",
    "gbm_1 = lgb.LGBMRegressor(num_leaves = 63, n_estimators = 200, learning_rate = 0.1)\n",
    "\n",
    "gbm_1.fit(x_train, y_train)\n",
    "pred_train_gbm_1=gbm_1.predict(x_train)\n",
    "pred_gbm_1=gbm_1.predict(x_test)\n",
    "\n",
    "score_train = mean_absolute_error(y_train,pred_train_gbm_1)\n",
    "score = mean_absolute_error(y_test,pred_gbm_1)\n",
    "\n",
    "print('Train mae:',score_train)\n",
    "print('Test mae',score)"
   ]
  },
  {
   "cell_type": "code",
   "execution_count": 36,
   "id": "96f9a3db",
   "metadata": {},
   "outputs": [
    {
     "data": {
      "text/plain": [
       "{'learning_rate': 0.2, 'num_leaves': 31}"
      ]
     },
     "execution_count": 36,
     "metadata": {},
     "output_type": "execute_result"
    }
   ],
   "source": [
    "gbm.best_params_"
   ]
  },
  {
   "cell_type": "code",
   "execution_count": 66,
   "id": "18eb26c0",
   "metadata": {},
   "outputs": [],
   "source": []
  },
  {
   "cell_type": "code",
   "execution_count": 69,
   "id": "be4ff503",
   "metadata": {},
   "outputs": [],
   "source": []
  },
  {
   "cell_type": "code",
   "execution_count": 52,
   "id": "720e05a0",
   "metadata": {},
   "outputs": [
    {
     "data": {
      "text/plain": [
       "<AxesSubplot:title={'center':'Correlation of Numeric Features with Price'}>"
      ]
     },
     "execution_count": 52,
     "metadata": {},
     "output_type": "execute_result"
    },
    {
     "data": {
      "image/png": "[encoded data removed]",
      "text/plain": [
       "<Figure size 504x504 with 2 Axes>"
      ]
     },
     "metadata": {
      "needs_background": "light"
     },
     "output_type": "display_data"
    }
   ],
   "source": [
    "columns_1 = ['Brand_label', 'Series_label', 'CarName_label', 'Province_label', 'Miles_std', 'CarAge_std', 'Price_NewCar_std', \n",
    "               'isEV', 'isICE', 'PollutionType', 'MarketTime', 'MaxPower', 'MaxTorque', 'Displacement', 'size_l', 'size_w', 'size_h', 'Doors', 'Seats', 'Oil',\n",
    "          'series_amount', 'series_price_average', 'series_price_max', 'series_price_median', 'series_price_min', 'series_price_std', 'series_price_sum','Price_SecondHand']\n",
    "data_numeric = data[columns_1]\n",
    "correlation = data_numeric.corr()\n",
    "\n",
    "f , ax = plt.subplots(figsize = (7, 7))\n",
    "plt.title('Correlation of Numeric Features with Price',y=1,size=16)\n",
    "sns.heatmap(correlation,square = True,  vmax=0.8)"
   ]
  },
  {
   "cell_type": "code",
   "execution_count": null,
   "id": "1dbad757",
   "metadata": {},
   "outputs": [],
   "source": []
  },
  {
   "cell_type": "markdown",
   "id": "5777d6a5",
   "metadata": {},
   "source": [
    "## 模型调参"
   ]
  },
  {
   "cell_type": "code",
   "execution_count": 109,
   "id": "d828261f",
   "metadata": {},
   "outputs": [],
   "source": [
    "# from hyperopt import hp, fmin, tpe\n",
    "# import numpy as np\n",
    "# import pandas as pd\n",
    "# import lightgbm as lgb\n",
    "# from sklearn.model_selection import KFold\n",
    "# from hyperopt import hp, fmin, tpe\n",
    "# from numpy.random import RandomState\n",
    "# from sklearn.metrics import mean_squared_error"
   ]
  },
  {
   "cell_type": "markdown",
   "id": "bd8b31bd",
   "metadata": {},
   "source": [
    "### 五折交叉验证"
   ]
  },
  {
   "cell_type": "code",
   "execution_count": 118,
   "id": "013a464a",
   "metadata": {},
   "outputs": [],
   "source": [
    "# from sklearn.model_selection import cross_val_score\n",
    "# from sklearn.metrics import mean_absolute_error,  make_scorer"
   ]
  },
  {
   "cell_type": "code",
   "execution_count": 124,
   "id": "1ba2af89",
   "metadata": {},
   "outputs": [
    {
     "name": "stderr",
     "output_type": "stream",
     "text": [
      "[Parallel(n_jobs=1)]: Using backend SequentialBackend with 1 concurrent workers.\n"
     ]
    },
    {
     "name": "stdout",
     "output_type": "stream",
     "text": [
      "AVG: 2.251308227763597\n"
     ]
    },
    {
     "name": "stderr",
     "output_type": "stream",
     "text": [
      "[Parallel(n_jobs=1)]: Done   5 out of   5 | elapsed:  2.2min finished\n"
     ]
    }
   ],
   "source": [
    "# model = gbm\n",
    "# scores = cross_val_score(model, X=x_test, y=y_test, verbose=1, cv = 5, scoring=make_scorer(mean_absolute_error))\n",
    "# print('AVG:', np.mean(scores))"
   ]
  },
  {
   "cell_type": "code",
   "execution_count": null,
   "id": "8626bda0",
   "metadata": {},
   "outputs": [],
   "source": []
  },
  {
   "cell_type": "markdown",
   "id": "28070dc7",
   "metadata": {},
   "source": [
    "## 模型集成"
   ]
  },
  {
   "cell_type": "code",
   "execution_count": 37,
   "id": "1fea770d",
   "metadata": {},
   "outputs": [],
   "source": [
    "from sklearn import linear_model\n",
    "\n",
    "def Stacking_method(train_reg1,train_reg2, y_train_true,test_pre1,test_pre2, model_L2= linear_model.LinearRegression()):\n",
    "    model_L2.fit(pd.concat([pd.Series(train_reg1),pd.Series(train_reg2)],axis=1).values,y_train_true)\n",
    "    Stacking_result = model_L2.predict(pd.concat([pd.Series(test_pre1),pd.Series(test_pre2)],axis=1).values)\n",
    "    return Stacking_result"
   ]
  },
  {
   "cell_type": "code",
   "execution_count": 55,
   "id": "e9faa9c3",
   "metadata": {},
   "outputs": [
    {
     "name": "stdout",
     "output_type": "stream",
     "text": [
      "Stacking Test MAE: 0.6316732927046153\n"
     ]
    }
   ],
   "source": [
    "model_L2= linear_model.LinearRegression()\n",
    "Stacking_pre = Stacking_method(pred_train_xgb_1, pred_train_gbm_1, y_train,\n",
    "                               pred_xgb_1, pred_gbm_1, model_L2)\n",
    "print('Stacking Test MAE:', mean_absolute_error(y_test, Stacking_pre))"
   ]
  },
  {
   "cell_type": "code",
   "execution_count": 49,
   "id": "ed61e827",
   "metadata": {},
   "outputs": [
    {
     "data": {
      "text/plain": [
       "(103585, 114)"
      ]
     },
     "execution_count": 49,
     "metadata": {},
     "output_type": "execute_result"
    }
   ],
   "source": [
    "X_data.shape"
   ]
  },
  {
   "cell_type": "code",
   "execution_count": null,
   "id": "799ee868",
   "metadata": {},
   "outputs": [],
   "source": []
  }
 ],
 "metadata": {
  "kernelspec": {
   "display_name": "Python 3 (ipykernel)",
   "language": "python",
   "name": "python3"
  },
  "language_info": {
   "codemirror_mode": {
    "name": "ipython",
    "version": 3
   },
   "file_extension": ".py",
   "mimetype": "text/x-python",
   "name": "python",
   "nbconvert_exporter": "python",
   "pygments_lexer": "ipython3",
   "version": "3.9.7"
  }
 },
 "nbformat": 4,
 "nbformat_minor": 5
}
